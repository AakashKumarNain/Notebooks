{
 "cells": [
  {
   "cell_type": "code",
   "execution_count": 1,
   "metadata": {
    "ExecuteTime": {
     "end_time": "2019-02-25T16:08:24.592197Z",
     "start_time": "2019-02-25T16:08:24.589606Z"
    }
   },
   "outputs": [],
   "source": [
    "import warnings\n",
    "warnings.filterwarnings(\"ignore\")"
   ]
  },
  {
   "cell_type": "code",
   "execution_count": 2,
   "metadata": {
    "ExecuteTime": {
     "end_time": "2019-02-25T16:08:25.435775Z",
     "start_time": "2019-02-25T16:08:24.594318Z"
    }
   },
   "outputs": [],
   "source": [
    "import os\n",
    "import numpy as np\n",
    "import pandas as pd\n",
    "import matplotlib.pyplot as plt\n",
    "import seaborn as sns\n",
    "from sklearn.metrics import confusion_matrix\n",
    "from numba import jit"
   ]
  },
  {
   "cell_type": "code",
   "execution_count": 3,
   "metadata": {
    "ExecuteTime": {
     "end_time": "2019-02-25T16:08:25.451858Z",
     "start_time": "2019-02-25T16:08:25.438417Z"
    }
   },
   "outputs": [],
   "source": [
    "seed=1234\n",
    "np.random.seed(seed)\n",
    "\n",
    "%matplotlib inline\n",
    "%config InlineBackend.figure_format=\"svg\""
   ]
  },
  {
   "cell_type": "code",
   "execution_count": 4,
   "metadata": {
    "ExecuteTime": {
     "end_time": "2019-02-25T16:08:25.460171Z",
     "start_time": "2019-02-25T16:08:25.454175Z"
    }
   },
   "outputs": [],
   "source": [
    "# Function to get the confusion matrix\n",
    "def get_confusion_matrix(y_true, y_pred):\n",
    "    \"\"\"\n",
    "    Creates a confusion matrix.\n",
    "    \n",
    "    Args:\n",
    "        y_true: Ground truth with n elements\n",
    "        y_pred: predictions with n elements\n",
    "    \n",
    "    Returns:\n",
    "        conf_mtx: Confusion matrix of size nXn\n",
    "        \n",
    "    \"\"\"\n",
    "    assert len(y_true)==len(y_pred), \"\"\"Size of groundtruth vector and \n",
    "                                    prediction vector didn't match\"\"\"\n",
    "    \n",
    "    if not isinstance(y_true, np.ndarray):\n",
    "        y_true = np.array(y_true, np.int64)\n",
    "        \n",
    "    if not isinstance(y_pred, np.ndarray):\n",
    "        y_pred = np.array(y_pred, np.int64)\n",
    "        \n",
    "    classes = np.unique(np.vstack((y_true, y_pred))).shape[0]\n",
    "    conf_mtx = np.zeros((classes, classes), dtype=np.int64)\n",
    "    \n",
    "    for i, j in zip(y_true, y_pred):\n",
    "        conf_mtx[i][j] +=1\n",
    "    \n",
    "    return conf_mtx"
   ]
  },
  {
   "cell_type": "code",
   "execution_count": 5,
   "metadata": {
    "ExecuteTime": {
     "end_time": "2019-02-25T16:08:25.465404Z",
     "start_time": "2019-02-25T16:08:25.461768Z"
    }
   },
   "outputs": [],
   "source": [
    "# create two random arrays, binary as well as multi-class\n",
    "\n",
    "# binary classification\n",
    "binary_y_true = np.random.randint(0,2, size=(20))\n",
    "binary_y_pred = np.random.randint(0,2, size=(20))\n",
    "\n",
    "# multi-class classification\n",
    "multi_y_true = np.random.randint(0,5, size=(30))\n",
    "multi_y_pred = np.random.randint(0,5, size=(30))"
   ]
  },
  {
   "cell_type": "code",
   "execution_count": 6,
   "metadata": {
    "ExecuteTime": {
     "end_time": "2019-02-25T16:08:25.475052Z",
     "start_time": "2019-02-25T16:08:25.466901Z"
    }
   },
   "outputs": [
    {
     "name": "stdout",
     "output_type": "stream",
     "text": [
      "Custom implementation: \n",
      "[[6 5]\n",
      " [7 2]]\n",
      "\n",
      "scikit-learn implementation: \n",
      "[[6 5]\n",
      " [7 2]]\n"
     ]
    },
    {
     "data": {
      "text/plain": [
       "True"
      ]
     },
     "execution_count": 6,
     "metadata": {},
     "output_type": "execute_result"
    }
   ],
   "source": [
    "## 1. Check for binary case\n",
    "\n",
    "# get the confusion matrix from custom implementation\n",
    "conf_mtx_custom = get_confusion_matrix(binary_y_true, binary_y_pred)\n",
    "\n",
    "# get the confsuion matrix from sklearn implementation\n",
    "conf_mtx = confusion_matrix(binary_y_true, binary_y_pred)\n",
    "\n",
    "print(\"Custom implementation: \")\n",
    "print(conf_mtx_custom)\n",
    "print(\"\\nscikit-learn implementation: \")\n",
    "print(conf_mtx)\n",
    "\n",
    "np.all(conf_mtx == conf_mtx_custom)"
   ]
  },
  {
   "cell_type": "code",
   "execution_count": 7,
   "metadata": {
    "ExecuteTime": {
     "end_time": "2019-02-25T16:08:25.482005Z",
     "start_time": "2019-02-25T16:08:25.476389Z"
    }
   },
   "outputs": [
    {
     "name": "stdout",
     "output_type": "stream",
     "text": [
      "Custom implementation: \n",
      "[[2 1 1 0 0]\n",
      " [2 1 3 1 0]\n",
      " [0 0 1 0 2]\n",
      " [0 1 3 2 3]\n",
      " [0 4 1 0 2]]\n",
      "\n",
      "scikit-learn implementation: \n",
      "[[2 1 1 0 0]\n",
      " [2 1 3 1 0]\n",
      " [0 0 1 0 2]\n",
      " [0 1 3 2 3]\n",
      " [0 4 1 0 2]]\n"
     ]
    },
    {
     "data": {
      "text/plain": [
       "True"
      ]
     },
     "execution_count": 7,
     "metadata": {},
     "output_type": "execute_result"
    }
   ],
   "source": [
    "## 2. Check for mutli-class\n",
    "\n",
    "conf_mtx_custom = get_confusion_matrix(multi_y_true, multi_y_pred)\n",
    "conf_mtx = confusion_matrix(multi_y_true, multi_y_pred)\n",
    "\n",
    "print(\"Custom implementation: \")\n",
    "print(conf_mtx_custom)\n",
    "print(\"\\nscikit-learn implementation: \")\n",
    "print(conf_mtx)\n",
    "\n",
    "np.all(conf_mtx == conf_mtx_custom)"
   ]
  },
  {
   "cell_type": "markdown",
   "metadata": {},
   "source": [
    "## Count TP FP TN and FN"
   ]
  },
  {
   "cell_type": "code",
   "execution_count": 8,
   "metadata": {
    "ExecuteTime": {
     "end_time": "2019-02-25T16:08:25.487955Z",
     "start_time": "2019-02-25T16:08:25.483482Z"
    }
   },
   "outputs": [],
   "source": [
    "def get_count(conf_mtx, kind='binary'):\n",
    "    \"\"\"\n",
    "    Counts TP, FP, TN and FN in a confusion matrix\n",
    "    \n",
    "    Args:\n",
    "        conf_mtx: confusion matrix of size nXn\n",
    "    Returns:\n",
    "        tn, fp, fn, tp\n",
    "        \n",
    "        If the confusion matrix contains two classes, then\n",
    "        these four quantities will be scalar values. If the \n",
    "        confusion matrix contains more than two classes, then \n",
    "        each of these four quantities will be a numpy array\n",
    "        corresponding the type of quantity for each class\n",
    "        \n",
    "    \"\"\"\n",
    "    assert kind in('binary', 'multi_class'), \"Only binary and multi-class are supported\"\n",
    "    \n",
    "    if kind=='binary':\n",
    "        tn, fp, fn, tp = conf_mtx.ravel()\n",
    "    else:\n",
    "        # Count TP\n",
    "        tp = np.diag(conf_mtx)\n",
    "        # count FP\n",
    "        fp = conf_mtx.sum(axis=0) - tp\n",
    "        # count FN\n",
    "        fn = conf_mtx.sum(axis=1) - tp\n",
    "        # count TN\n",
    "        tn = conf_mtx.sum() - (tp + fp + fn)\n",
    "        \n",
    "    return tn, fp, fn, tp"
   ]
  },
  {
   "cell_type": "code",
   "execution_count": 9,
   "metadata": {
    "ExecuteTime": {
     "end_time": "2019-02-25T16:08:25.495349Z",
     "start_time": "2019-02-25T16:08:25.490727Z"
    }
   },
   "outputs": [
    {
     "name": "stdout",
     "output_type": "stream",
     "text": [
      "Confusion matrix: \n",
      "[[6 5]\n",
      " [7 2]]\n",
      "\n",
      "TP:  2\n",
      "FP:  5\n",
      "FN:  7\n",
      "TN:  6\n"
     ]
    }
   ],
   "source": [
    "# Check for binary\n",
    "conf_mtx = get_confusion_matrix(binary_y_true, binary_y_pred)\n",
    "tn, fp, fn, tp = get_count(conf_mtx, kind='binary')\n",
    "\n",
    "print(\"Confusion matrix: \")\n",
    "print(conf_mtx)\n",
    "print(\"\\nTP: \", tp)\n",
    "print(\"FP: \", fp)\n",
    "print(\"FN: \", fn)\n",
    "print(\"TN: \", tn)"
   ]
  },
  {
   "cell_type": "code",
   "execution_count": 10,
   "metadata": {
    "ExecuteTime": {
     "end_time": "2019-02-25T16:08:25.503308Z",
     "start_time": "2019-02-25T16:08:25.498139Z"
    }
   },
   "outputs": [
    {
     "name": "stdout",
     "output_type": "stream",
     "text": [
      "Confusion matrix: \n",
      "[[2 1 1 0 0]\n",
      " [2 1 3 1 0]\n",
      " [0 0 1 0 2]\n",
      " [0 1 3 2 3]\n",
      " [0 4 1 0 2]] \n",
      "\n",
      "Class: 0 \n",
      " TN: 24 FP: 2 \n",
      " FN: 2 TP: 2\n",
      "\n",
      "Class: 1 \n",
      " TN: 17 FP: 6 \n",
      " FN: 6 TP: 1\n",
      "\n",
      "Class: 2 \n",
      " TN: 19 FP: 8 \n",
      " FN: 2 TP: 1\n",
      "\n",
      "Class: 3 \n",
      " TN: 20 FP: 1 \n",
      " FN: 7 TP: 2\n",
      "\n",
      "Class: 4 \n",
      " TN: 18 FP: 5 \n",
      " FN: 5 TP: 2\n",
      "\n"
     ]
    }
   ],
   "source": [
    "conf_mtx = get_confusion_matrix(multi_y_true, multi_y_pred)\n",
    "tn, fp, fn, tp = get_count(conf_mtx, kind='multi_class')\n",
    "\n",
    "print(\"Confusion matrix: \")\n",
    "print(conf_mtx,\"\\n\")\n",
    "\n",
    "for i in range(conf_mtx.shape[0]):\n",
    "    print(f\"Class: {i} \\n TN: {tn[i]} FP: {fp[i]} \\n FN: {fn[i]} TP: {tp[i]}\\n\")"
   ]
  },
  {
   "cell_type": "code",
   "execution_count": null,
   "metadata": {},
   "outputs": [],
   "source": []
  }
 ],
 "metadata": {
  "kernelspec": {
   "display_name": "Python 3",
   "language": "python",
   "name": "python3"
  },
  "language_info": {
   "codemirror_mode": {
    "name": "ipython",
    "version": 3
   },
   "file_extension": ".py",
   "mimetype": "text/x-python",
   "name": "python",
   "nbconvert_exporter": "python",
   "pygments_lexer": "ipython3",
   "version": "3.6.8"
  }
 },
 "nbformat": 4,
 "nbformat_minor": 2
}
