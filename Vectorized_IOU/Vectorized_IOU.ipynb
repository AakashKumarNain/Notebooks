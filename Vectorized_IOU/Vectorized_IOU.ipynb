{
 "cells": [
  {
   "cell_type": "markdown",
   "metadata": {},
   "source": [
    "### 1. Import required libraries"
   ]
  },
  {
   "cell_type": "code",
   "execution_count": 1,
   "metadata": {
    "ExecuteTime": {
     "end_time": "2019-03-27T11:10:24.063644Z",
     "start_time": "2019-03-27T11:10:23.953574Z"
    }
   },
   "outputs": [],
   "source": [
    "import os\n",
    "import numpy as np"
   ]
  },
  {
   "cell_type": "markdown",
   "metadata": {},
   "source": [
    "### 2. Reproducibility"
   ]
  },
  {
   "cell_type": "code",
   "execution_count": 2,
   "metadata": {
    "ExecuteTime": {
     "end_time": "2019-03-27T11:10:24.068495Z",
     "start_time": "2019-03-27T11:10:24.065871Z"
    }
   },
   "outputs": [],
   "source": [
    "# Thumb rule: Always set the seed\n",
    "seed =1234\n",
    "np.random.seed(seed)"
   ]
  },
  {
   "cell_type": "markdown",
   "metadata": {},
   "source": [
    "### 3. Compute IOU\n",
    "Suppose you have two tensors, one representing ground truth and the other one representing predictions. Each tensor\n",
    "is having n number of boxes and we need to evaluate IOU for each pair. This implementation shows how to do it without creating an explicit for-loop. This is a vectorized version and hence much faster and scalable "
   ]
  },
  {
   "cell_type": "code",
   "execution_count": 3,
   "metadata": {
    "ExecuteTime": {
     "end_time": "2019-03-27T11:10:24.079751Z",
     "start_time": "2019-03-27T11:10:24.070142Z"
    }
   },
   "outputs": [],
   "source": [
    "def compute_ious(boxesA, boxesB):\n",
    "    \"\"\"\n",
    "    This function is used to compute IOU between pairs of \n",
    "    bouding boxes. \n",
    "    BEWARE: I am using the (xmin, ymin, xmax, ymax) notation\n",
    "    in this implementation. If you are using some other format,\n",
    "    please change the indices accordingly in the implementation.\n",
    "    \n",
    "    Args:\n",
    "        boxesA: N-d(nxn) array containing boxes(e.g. Ground truth boxes)\n",
    "        boxesB: N-d(nxn) array containing boxes(e.g. Predictions)\n",
    "        \n",
    "    Returns:\n",
    "        IOU: N-D(nxn) array representing IOU for each pair\n",
    "    \"\"\"\n",
    "    \n",
    "    # sanity check\n",
    "    if len(boxesA)!=len(boxesB):\n",
    "        raise ValueError(\"Both arrays should contain same number of boxes\")\n",
    "        return\n",
    "    \n",
    "    # 1. Split the boxes into coordinates. \n",
    "    xminA, yminA, xmaxA, ymaxA = np.split(boxesA, 4, axis=1)\n",
    "    xminB, yminB, xmaxB, ymaxB = np.split(boxesB, 4, axis=1)\n",
    "    \n",
    "    # 2. Compute Area for the boxes in both arrays\n",
    "    areaA = (boxesA[:,2] - boxesA[:,0]) * (boxesA[:,3]-boxesA[:,1])\n",
    "    areaB = (boxesB[:,2] - boxesB[:,0]) * (boxesB[:,3]-boxesB[:,1])\n",
    "    \n",
    "    # 3. Find min max y-coordinate for each pair\n",
    "    # We are taking transpose because we need pairwaise min max\n",
    "    all_pairs_min_ymax = np.minimum(ymaxA, np.transpose(ymaxB))\n",
    "    all_pairs_max_ymin = np.maximum(yminA, np.transpose(yminB))\n",
    "    \n",
    "    # 4. Computer intersection in height\n",
    "    intersect_heights = np.maximum(np.zeros(all_pairs_max_ymin.shape),\n",
    "                                   all_pairs_min_ymax - all_pairs_max_ymin)\n",
    "    \n",
    "    # 5. Find min max x-coordinate for each pair\n",
    "    all_pairs_min_xmax = np.minimum(xmaxA, np.transpose(xmaxB))\n",
    "    all_pairs_max_xmin = np.maximum(xminA, np.transpose(xminB))\n",
    "    \n",
    "    # 6. Computer intersection in width\n",
    "    intersect_widths = np.maximum(np.zeros(all_pairs_max_xmin.shape), \n",
    "                                  all_pairs_min_xmax - all_pairs_max_xmin)\n",
    "    \n",
    "    # 7. Computer intersection and union of areas\n",
    "    intersection = intersect_heights * intersect_widths\n",
    "    union = np.expand_dims(areaA, axis=1) + \\\n",
    "                            np.expand_dims(areaB, axis=0) - intersection\n",
    "    \n",
    "    # 8. Computer IOU(pairwise)\n",
    "    IOU = (intersection / union).astype(np.float32)\n",
    "    \n",
    "    return IOU"
   ]
  },
  {
   "cell_type": "code",
   "execution_count": 4,
   "metadata": {
    "ExecuteTime": {
     "end_time": "2019-03-27T11:10:24.086528Z",
     "start_time": "2019-03-27T11:10:24.082031Z"
    }
   },
   "outputs": [],
   "source": [
    "boxesA = np.array([[142,208,158,346],\n",
    "          [39, 63, 203, 112],\n",
    "          [49, 75, 203, 125], \n",
    "          [31, 69, 201, 125], \n",
    "          [50, 72, 197, 121], \n",
    "          [35, 51, 196, 110]\n",
    "          ]).astype(np.float32) \n",
    "          \n",
    "boxesB = np.array([[243,203,348,279],\n",
    "          [54, 66, 198, 114],\n",
    "          [42, 78, 186, 126],\n",
    "          [18, 63, 235, 135],\n",
    "          [54, 72, 198, 120],\n",
    "          [36, 60, 180, 108]\n",
    "          ]).astype(np.float32)"
   ]
  },
  {
   "cell_type": "code",
   "execution_count": 5,
   "metadata": {
    "ExecuteTime": {
     "end_time": "2019-03-27T11:10:24.098088Z",
     "start_time": "2019-03-27T11:10:24.088014Z"
    }
   },
   "outputs": [
    {
     "data": {
      "text/plain": [
       "array([[0.        , 0.        , 0.        , 0.        , 0.        ,\n",
       "        0.        ],\n",
       "       [0.        , 0.79577124, 0.48706725, 0.51433694, 0.62690467,\n",
       "        0.7375334 ],\n",
       "       [0.        , 0.6242775 , 0.787838  , 0.49283153, 0.79685193,\n",
       "        0.42015746],\n",
       "       [0.        , 0.65112543, 0.70033115, 0.609319  , 0.72605044,\n",
       "        0.5192308 ],\n",
       "       [0.        , 0.7406585 , 0.70739084, 0.4610215 , 0.94662803,\n",
       "        0.49602544],\n",
       "       [0.        , 0.6147791 , 0.39040923, 0.43102074, 0.48987743,\n",
       "        0.72765553]], dtype=float32)"
      ]
     },
     "execution_count": 5,
     "metadata": {},
     "output_type": "execute_result"
    }
   ],
   "source": [
    "compute_ious(boxesA, boxesB)"
   ]
  },
  {
   "cell_type": "code",
   "execution_count": null,
   "metadata": {},
   "outputs": [],
   "source": []
  }
 ],
 "metadata": {
  "kernelspec": {
   "display_name": "Python 3",
   "language": "python",
   "name": "python3"
  },
  "language_info": {
   "codemirror_mode": {
    "name": "ipython",
    "version": 3
   },
   "file_extension": ".py",
   "mimetype": "text/x-python",
   "name": "python",
   "nbconvert_exporter": "python",
   "pygments_lexer": "ipython3",
   "version": "3.6.8"
  }
 },
 "nbformat": 4,
 "nbformat_minor": 2
}
