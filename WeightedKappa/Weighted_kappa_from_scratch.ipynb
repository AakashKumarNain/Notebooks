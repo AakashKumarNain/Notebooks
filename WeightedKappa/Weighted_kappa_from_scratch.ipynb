{
 "cells": [
  {
   "cell_type": "code",
   "execution_count": 1,
   "metadata": {
    "ExecuteTime": {
     "end_time": "2019-02-18T16:56:20.294051Z",
     "start_time": "2019-02-18T16:56:20.290102Z"
    },
    "collapsed": true
   },
   "outputs": [],
   "source": [
    "import warnings\n",
    "warnings.filterwarnings(\"ignore\")"
   ]
  },
  {
   "cell_type": "code",
   "execution_count": 2,
   "metadata": {
    "ExecuteTime": {
     "end_time": "2019-02-18T16:56:22.893663Z",
     "start_time": "2019-02-18T16:56:22.257387Z"
    },
    "collapsed": true
   },
   "outputs": [],
   "source": [
    "import os\n",
    "import math\n",
    "import numpy as np\n",
    "from functools import reduce\n",
    "from sklearn.metrics import confusion_matrix, cohen_kappa_score\n",
    "from time import time"
   ]
  },
  {
   "cell_type": "code",
   "execution_count": 3,
   "metadata": {
    "ExecuteTime": {
     "end_time": "2019-02-18T16:56:40.056999Z",
     "start_time": "2019-02-18T16:56:40.054068Z"
    },
    "collapsed": true
   },
   "outputs": [],
   "source": [
    "# Thumb rule: Always set the seed\n",
    "np.random.seed(1234)"
   ]
  },
  {
   "cell_type": "code",
   "execution_count": 4,
   "metadata": {
    "ExecuteTime": {
     "end_time": "2019-02-18T16:59:23.937591Z",
     "start_time": "2019-02-18T16:59:23.896132Z"
    },
    "collapsed": true
   },
   "outputs": [],
   "source": [
    "def quadratic_kappa(actual_ratings, predicted_ratings, nb_ratings=None):\n",
    "    \"\"\"\n",
    "    This function can be used to find the value of Weighted Quadratic Kappa between two raters\n",
    "    \n",
    "    Arguments:\n",
    "        actual_ratings: Vector of true ratings represented as integers\n",
    "        predicted_ratings: Vectors of predicted ratings represented as integers\n",
    "        nb_ratings: Number of unique ratings in your dataset\n",
    "    \n",
    "    Returns:\n",
    "        weighted_kappa_score(float)\n",
    "    \"\"\"\n",
    "    \n",
    "    assert len(actual_ratings) == len(predicted_ratings), \"Both the vectors should be of same length\"\n",
    "    \n",
    "    # 1. Get the confusion mtarix\n",
    "    conf_mtx = confusion_matrix(actual_ratings, predicted_ratings).astype(np.float64)\n",
    "    if nb_ratings:\n",
    "        nb_ratings = nb_ratings\n",
    "    else:\n",
    "        nb_ratings = conf_mtx.shape[0]\n",
    "    \n",
    "    # 2. Create a weight matrix\n",
    "    weight_mtx = np.zeros((nb_ratings, nb_ratings), dtype=np.float64)\n",
    "    weight_mtx +=np.arange(nb_ratings)\n",
    "    weight_mtx = (weight_mtx - weight_mtx.T)**2 / ((nb_ratings-1)**2)\n",
    "  \n",
    "    # 3.Get the histograms for both the raters\n",
    "    actual_ratings_hist = np.sum(conf_mtx, axis=1)\n",
    "    predicted_ratings_hist = np.sum(conf_mtx, axis=0)\n",
    "    \n",
    "    \n",
    "    # 4. Perform an outer product of the histograms\n",
    "    out_prod = np.outer(predicted_ratings_hist, actual_ratings_hist).astype(np.float64)\n",
    "    \n",
    "    # 5. Normalize both- the confusion matrix and the outer product matrix\n",
    "    conf_mtx /= conf_mtx.sum()\n",
    "    out_prod /= out_prod.sum()\n",
    "    \n",
    "    # 6. Calcuate the numerator and denominator\n",
    "    numerator = np.sum(conf_mtx * weight_mtx)\n",
    "    denominator = np.sum(out_prod * weight_mtx)          \n",
    "    \n",
    "    # 7. Calculate and return weighted kappa\n",
    "    return 1-(numerator/denominator)"
   ]
  },
  {
   "cell_type": "code",
   "execution_count": 5,
   "metadata": {
    "ExecuteTime": {
     "end_time": "2019-02-18T16:59:54.847669Z",
     "start_time": "2019-02-18T16:59:54.843899Z"
    },
    "collapsed": true
   },
   "outputs": [],
   "source": [
    "# Sample example to validate if the implementation is correct or not\n",
    "actuals = np.array([4, 4, 3, 4, 4, 4, 1, 1, 2, 1])\n",
    "preds   = np.array([0, 2, 1, 0, 0, 0, 1, 1, 2, 1])"
   ]
  },
  {
   "cell_type": "code",
   "execution_count": 9,
   "metadata": {
    "ExecuteTime": {
     "end_time": "2019-02-18T17:03:03.398531Z",
     "start_time": "2019-02-18T17:03:03.384678Z"
    }
   },
   "outputs": [
    {
     "name": "stdout",
     "output_type": "stream",
     "text": [
      "True\n"
     ]
    },
    {
     "data": {
      "text/plain": [
       "(-0.13924050632911378, -0.139240506329114)"
      ]
     },
     "execution_count": 9,
     "metadata": {},
     "output_type": "execute_result"
    }
   ],
   "source": [
    "# weighted kappa as per sklearn implementation\n",
    "sk_imp_score = cohen_kappa_score(actuals, preds, weights='quadratic')\n",
    "\n",
    "# weighted kappa as per our implementation\n",
    "custom_imp_score = quadratic_kappa(actuals, preds)\n",
    "\n",
    "print(np.allclose(sk_imp_score, custom_imp_score))\n",
    "sk_imp_score, custom_imp_score"
   ]
  },
  {
   "cell_type": "code",
   "execution_count": 10,
   "metadata": {
    "ExecuteTime": {
     "end_time": "2019-02-18T17:03:22.014663Z",
     "start_time": "2019-02-18T17:03:22.005843Z"
    }
   },
   "outputs": [
    {
     "name": "stdout",
     "output_type": "stream",
     "text": [
      "1.0\n",
      "CPU times: user 858 µs, sys: 737 µs, total: 1.6 ms\n",
      "Wall time: 916 µs\n",
      "1.0\n",
      "CPU times: user 519 µs, sys: 162 µs, total: 681 µs\n",
      "Wall time: 568 µs\n"
     ]
    }
   ],
   "source": [
    "# One more example\n",
    "actuals = np.array([4, 4, 3, 4, 4, 4, 1, 1, 2, 0])\n",
    "preds = np.array([4, 4, 3, 4, 4, 4, 1, 1, 2, 0])\n",
    "%time print(quadratic_kappa(actuals, preds))\n",
    "%time print(cohen_kappa_score(actuals, preds, weights='quadratic'))"
   ]
  },
  {
   "cell_type": "code",
   "execution_count": null,
   "metadata": {
    "collapsed": true
   },
   "outputs": [],
   "source": []
  }
 ],
 "metadata": {
  "kernelspec": {
   "display_name": "Python 3",
   "language": "python",
   "name": "python3"
  },
  "language_info": {
   "codemirror_mode": {
    "name": "ipython",
    "version": 3
   },
   "file_extension": ".py",
   "mimetype": "text/x-python",
   "name": "python",
   "nbconvert_exporter": "python",
   "pygments_lexer": "ipython3",
   "version": "3.6.4"
  }
 },
 "nbformat": 4,
 "nbformat_minor": 2
}
